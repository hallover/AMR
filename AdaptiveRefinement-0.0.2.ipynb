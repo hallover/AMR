{
 "cells": [
  {
   "cell_type": "code",
<<<<<<< HEAD
   "execution_count": 1,
   "metadata": {
    "collapsed": true
=======
   "execution_count": 2,
   "metadata": {
    "collapsed": true,
    "deletable": true,
    "editable": true
>>>>>>> origin/master
   },
   "outputs": [],
   "source": [
    "import numpy as np\n",
    "from matplotlib import pyplot as plt"
   ]
  },
  {
   "cell_type": "code",
<<<<<<< HEAD
   "execution_count": 2,
   "metadata": {
    "collapsed": true
=======
   "execution_count": 3,
   "metadata": {
    "collapsed": true,
    "deletable": true,
    "editable": true
>>>>>>> origin/master
   },
   "outputs": [],
   "source": [
    "nSamples = 20\n",
    "a = 0.0\n",
    "b = 1.0\n",
    "dx = (b - a) / nSamples\n",
    "y1 = .6\n",
    "y2 = 1.0\n",
    "inWindow = []\n",
    "SamplePoints = np.linspace(a,b,nSamples)\n",
    "allPoints = []\n",
    "yValsScatter = []\n",
    "allPoints = []\n",
    "allPointsYvals = []\n",
    "yList = []\n",
<<<<<<< HEAD
    "toAverage = []\n",
    "averageList = []\n",
    "\n",
=======
>>>>>>> origin/master
    "windowSize = 0.0"
   ]
  },
  {
   "cell_type": "code",
<<<<<<< HEAD
   "execution_count": 3,
   "metadata": {
    "collapsed": true
=======
   "execution_count": 4,
   "metadata": {
    "collapsed": false,
    "deletable": true,
    "editable": true
>>>>>>> origin/master
   },
   "outputs": [],
   "source": [
    "# print(list(map(cW1,SamplePoints)))"
   ]
  },
  {
   "cell_type": "code",
<<<<<<< HEAD
   "execution_count": 4,
   "metadata": {
    "collapsed": true
=======
   "execution_count": 5,
   "metadata": {
    "collapsed": false,
    "deletable": true,
    "editable": true
>>>>>>> origin/master
   },
   "outputs": [],
   "source": [
    "def cW1(x):\n",
    "    cutoff = 1\n",
    "    y = np.exp(np.cos(2*np.pi*x))\n",
    "    \n",
    "    if y > 1:\n",
    "        return 0\n",
    "    else: return y"
   ]
  },
  {
   "cell_type": "code",
<<<<<<< HEAD
   "execution_count": 5,
   "metadata": {
    "collapsed": true
=======
   "execution_count": 6,
   "metadata": {
    "collapsed": true,
    "deletable": true,
    "editable": true
>>>>>>> origin/master
   },
   "outputs": [],
   "source": [
    "def inWindow(y):\n",
    "    if y > windowLow and y < windowHigh:\n",
    "        return True\n",
    "    else:\n",
    "        return False"
   ]
  },
  {
   "cell_type": "code",
<<<<<<< HEAD
   "execution_count": 6,
=======
   "execution_count": 10,
>>>>>>> origin/master
   "metadata": {
    "collapsed": true
   },
   "outputs": [],
   "source": [
<<<<<<< HEAD
    "def setWindowWidth(SamplePoints):\n",
    "    windowTruthList = list(map(inWindow,yVals))\n",
    "    h = 0\n",
    "    NewestSamplePoints = []\n",
    "    newSamples = []\n",
    "\n",
    "    for i in range(0,len(SamplePoints)):\n",
    "        if windowTruthList[i] == True:\n",
    "            newSamples.append(SamplePoints[i] + .5*dx)\n",
    "            newSamples.append(SamplePoints[i] - .5*dx)\n",
    "#             newSamples.append(s1)\n",
    "#             newSamples.append(s2)\n",
    "            np.asarray(newSamples)\n",
    "#             print(newSamples)\n",
    "#             print(i)\n",
    "    NewestSamplePoints = np.concatenate((newSamples,SamplePoints),axis=0)\n",
    "#     SamplePoints = np.concatenate(NewestSamplePoints) \n",
    "    SamplePoints = NewestSamplePoints\n",
    "#     print(SamplePoints)\n",
    "#     print (NewestSamplePoints)\n",
    "    toAverage = list(map(cW1,SamplePoints))\n",
    "    toAverageTruthlist = list(map(inWindow,toAverage))\n",
    "#     print(toAverageTruthlist)\n",
    "    \n",
    "    \n",
    "\n",
    "    for i in range (0,len(toAverage)):\n",
    "        if toAverageTruthlist[i] == True:\n",
    "#             print(\"1\")\n",
    "            averageList.append(toAverage[i])\n",
    "    np.unique(averageList)\n",
    "    avg = np.sum(averageList)/len(averageList)\n",
    "    SamplePoints = np.unique(SamplePoints)\n",
    "    SamplePoints = np.sort(SamplePoints)\n",
    "    print(SamplePoints)\n",
    "\n",
    "#     print(averageList)\n",
    "#     if len(toAverage) == len(toAverageTruthlist):\n",
    "        \n",
    "#         print(\"YESSSS\")\n",
    "    return avg, SamplePoints"
=======
    "def setWindow():\n",
    "    # windowTruthList = list(map(inWindow,yVals))\n",
    "    h = 0\n",
    "    newSamples = []\n",
    "    \n",
    "    for i in range(0,len(SamplePoints)):\n",
    "\n",
    "        if windowTruthList[i] == True and h < 8:\n",
    "    #         SamplePoints.insert(i+1,SamplePoints[i+.5*dx])\n",
    "    #         SamplePoints.insert(i-1,SamplePoints[i+.5*dx])\n",
    "    #         ia= i+1\n",
    "    #         ib = i-1\n",
    "    #         print(i)\n",
    "    #         s = SamplePoints[i+1]\n",
    "    #         print(s)\n",
    "            print(SamplePoints[i])\n",
    "            np.insert(SamplePoints,i,1)\n",
    "    print(SamplePoints)\n",
    "    print(.5*dx)\n",
    "    "
>>>>>>> origin/master
   ]
  },
  {
   "cell_type": "code",
<<<<<<< HEAD
   "execution_count": 7,
   "metadata": {},
=======
   "execution_count": 12,
   "metadata": {
    "collapsed": false
   },
>>>>>>> origin/master
   "outputs": [
    {
     "name": "stdout",
     "output_type": "stream",
     "text": [
<<<<<<< HEAD
      "[ 0.          0.05263158  0.10526316  0.15789474  0.21052632  0.23815789\n",
      "  0.26315789  0.28815789  0.31578947  0.36842105  0.42105263  0.47368421\n",
      "  0.52631579  0.57894737  0.63157895  0.68421053  0.71184211  0.73684211\n",
      "  0.76184211  0.78947368  0.84210526  0.89473684  0.94736842  1.        ]\n"
     ]
    },
    {
     "ename": "IndexError",
     "evalue": "list index out of range",
     "output_type": "error",
     "traceback": [
      "\u001b[0;31m\u001b[0m",
      "\u001b[0;31mIndexError\u001b[0mTraceback (most recent call last)",
      "\u001b[0;32m<ipython-input-7-846a85994595>\u001b[0m in \u001b[0;36m<module>\u001b[0;34m()\u001b[0m\n\u001b[1;32m     10\u001b[0m \u001b[0;32mfor\u001b[0m \u001b[0mi\u001b[0m \u001b[0;32min\u001b[0m \u001b[0mrange\u001b[0m\u001b[0;34m(\u001b[0m\u001b[0;36m0\u001b[0m\u001b[0;34m,\u001b[0m\u001b[0;36m3\u001b[0m\u001b[0;34m)\u001b[0m\u001b[0;34m:\u001b[0m\u001b[0;34m\u001b[0m\u001b[0m\n\u001b[1;32m     11\u001b[0m \u001b[0;34m\u001b[0m\u001b[0m\n\u001b[0;32m---> 12\u001b[0;31m     \u001b[0my0\u001b[0m\u001b[0;34m,\u001b[0m \u001b[0mSamplePoints\u001b[0m \u001b[0;34m=\u001b[0m \u001b[0msetWindowWidth\u001b[0m\u001b[0;34m(\u001b[0m\u001b[0mSamplePoints\u001b[0m\u001b[0;34m)\u001b[0m\u001b[0;34m\u001b[0m\u001b[0m\n\u001b[0m\u001b[1;32m     13\u001b[0m     \u001b[0mdx\u001b[0m \u001b[0;34m=\u001b[0m \u001b[0;36m.5\u001b[0m\u001b[0;34m*\u001b[0m\u001b[0mdx\u001b[0m\u001b[0;34m\u001b[0m\u001b[0m\n\u001b[1;32m     14\u001b[0m \u001b[0;34m\u001b[0m\u001b[0m\n",
      "\u001b[0;32m<ipython-input-6-375ad84a6f4b>\u001b[0m in \u001b[0;36msetWindowWidth\u001b[0;34m(SamplePoints)\u001b[0m\n\u001b[1;32m      6\u001b[0m \u001b[0;34m\u001b[0m\u001b[0m\n\u001b[1;32m      7\u001b[0m     \u001b[0;32mfor\u001b[0m \u001b[0mi\u001b[0m \u001b[0;32min\u001b[0m \u001b[0mrange\u001b[0m\u001b[0;34m(\u001b[0m\u001b[0;36m0\u001b[0m\u001b[0;34m,\u001b[0m\u001b[0mlen\u001b[0m\u001b[0;34m(\u001b[0m\u001b[0mSamplePoints\u001b[0m\u001b[0;34m)\u001b[0m\u001b[0;34m)\u001b[0m\u001b[0;34m:\u001b[0m\u001b[0;34m\u001b[0m\u001b[0m\n\u001b[0;32m----> 8\u001b[0;31m         \u001b[0;32mif\u001b[0m \u001b[0mwindowTruthList\u001b[0m\u001b[0;34m[\u001b[0m\u001b[0mi\u001b[0m\u001b[0;34m]\u001b[0m \u001b[0;34m==\u001b[0m \u001b[0mTrue\u001b[0m\u001b[0;34m:\u001b[0m\u001b[0;34m\u001b[0m\u001b[0m\n\u001b[0m\u001b[1;32m      9\u001b[0m             \u001b[0mnewSamples\u001b[0m\u001b[0;34m.\u001b[0m\u001b[0mappend\u001b[0m\u001b[0;34m(\u001b[0m\u001b[0mSamplePoints\u001b[0m\u001b[0;34m[\u001b[0m\u001b[0mi\u001b[0m\u001b[0;34m]\u001b[0m \u001b[0;34m+\u001b[0m \u001b[0;36m.5\u001b[0m\u001b[0;34m*\u001b[0m\u001b[0mdx\u001b[0m\u001b[0;34m)\u001b[0m\u001b[0;34m\u001b[0m\u001b[0m\n\u001b[1;32m     10\u001b[0m             \u001b[0mnewSamples\u001b[0m\u001b[0;34m.\u001b[0m\u001b[0mappend\u001b[0m\u001b[0;34m(\u001b[0m\u001b[0mSamplePoints\u001b[0m\u001b[0;34m[\u001b[0m\u001b[0mi\u001b[0m\u001b[0;34m]\u001b[0m \u001b[0;34m-\u001b[0m \u001b[0;36m.5\u001b[0m\u001b[0;34m*\u001b[0m\u001b[0mdx\u001b[0m\u001b[0;34m)\u001b[0m\u001b[0;34m\u001b[0m\u001b[0m\n",
      "\u001b[0;31mIndexError\u001b[0m: list index out of range"
     ]
    }
   ],
   "source": [
    "yVals = list(map(cW1,SamplePoints))\n",
    "yValAvg = sum(yVals)/(len(yVals))\n",
    "y0 = yValAvg\n",
    "\n",
    "y1 = max(yVals)\n",
    "windowHigh = y1 + .5*y0\n",
    "windowLow = y1 - .5*y0\n",
    "\n",
    "\n",
    "for i in range(0,3):   \n",
    "\n",
    "    y0, SamplePoints = setWindowWidth(SamplePoints)\n",
    "    dx = .5*dx\n",
    "    \n",
    "    windowLow = y0 + dx"
   ]
  },
  {
   "cell_type": "code",
   "execution_count": null,
   "metadata": {},
   "outputs": [],
   "source": [
    "print(len(SamplePoints))"
   ]
  },
  {
   "cell_type": "code",
   "execution_count": 8,
   "metadata": {
    "scrolled": true
   },
   "outputs": [
    {
     "data": {
      "image/png": "iVBORw0KGgoAAAANSUhEUgAAAXkAAAEACAYAAABWLgY0AAAABHNCSVQICAgIfAhkiAAAAAlwSFlz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\nAAAASUVORK5CYII=\n",
      "text/plain": [
       "<matplotlib.figure.Figure at 0x7f637ef57cd0>"
      ]
     },
     "metadata": {},
     "output_type": "display_data"
    }
   ],
   "source": [
    "yVals1 = map(cW1,SamplePoints)\n",
    "plt.plot(SamplePoints,yVals1)\n",
    "plt.show()"
=======
      "0.263157894737\n",
      "0.736842105263\n",
      "[ 0.          0.05263158  0.10526316  0.15789474  0.21052632  0.26315789\n",
      "  0.31578947  0.36842105  0.42105263  0.47368421  0.52631579  0.57894737\n",
      "  0.63157895  0.68421053  0.73684211  0.78947368  0.84210526  0.89473684\n",
      "  0.94736842  1.        ]\n",
      "0.025\n"
     ]
    }
   ],
   "source": [
    "setWindow()"
>>>>>>> origin/master
   ]
  },
  {
   "cell_type": "code",
<<<<<<< HEAD
   "execution_count": 10,
   "metadata": {
    "scrolled": true
   },
   "outputs": [
    {
     "name": "stdout",
     "output_type": "stream",
     "text": [
      "0.0526315789474\n",
      "0.0526315789474\n",
      "0.0526315789474\n",
      "0.0276315789474\n",
      "0.025\n",
      "0.025\n",
      "0.0276315789474\n",
      "0.0526315789474\n",
      "0.0526315789474\n",
      "0.0526315789474\n",
      "0.0526315789474\n",
      "0.0526315789474\n",
      "0.0526315789474\n",
      "0.0526315789474\n",
      "0.0276315789474\n",
      "0.025\n",
      "0.025\n",
      "0.0276315789474\n",
      "0.0526315789474\n",
      "0.0526315789474\n",
      "0.0526315789474\n",
      "0.0526315789474\n"
     ]
    },
    {
     "ename": "IndexError",
     "evalue": "index 24 is out of bounds for axis 0 with size 24",
     "output_type": "error",
     "traceback": [
      "\u001b[0;31m\u001b[0m",
      "\u001b[0;31mIndexError\u001b[0mTraceback (most recent call last)",
      "\u001b[0;32m<ipython-input-10-cace44bec2f9>\u001b[0m in \u001b[0;36m<module>\u001b[0;34m()\u001b[0m\n\u001b[1;32m      3\u001b[0m \u001b[0;34m\u001b[0m\u001b[0m\n\u001b[1;32m      4\u001b[0m \u001b[0;32mfor\u001b[0m \u001b[0mi\u001b[0m \u001b[0;32min\u001b[0m \u001b[0mrange\u001b[0m\u001b[0;34m(\u001b[0m\u001b[0;36m1\u001b[0m\u001b[0;34m,\u001b[0m\u001b[0;34m(\u001b[0m\u001b[0mlen\u001b[0m\u001b[0;34m(\u001b[0m\u001b[0mSamplePoints\u001b[0m\u001b[0;34m)\u001b[0m\u001b[0;34m)\u001b[0m\u001b[0;34m)\u001b[0m\u001b[0;34m:\u001b[0m\u001b[0;34m\u001b[0m\u001b[0m\n\u001b[0;32m----> 5\u001b[0;31m     \u001b[0;32mprint\u001b[0m\u001b[0;34m(\u001b[0m\u001b[0mSamplePoints\u001b[0m\u001b[0;34m[\u001b[0m\u001b[0mi\u001b[0m\u001b[0;34m+\u001b[0m\u001b[0;36m1\u001b[0m\u001b[0;34m]\u001b[0m\u001b[0;34m-\u001b[0m\u001b[0mSamplePoints\u001b[0m\u001b[0;34m[\u001b[0m\u001b[0mi\u001b[0m\u001b[0;34m]\u001b[0m\u001b[0;34m)\u001b[0m\u001b[0;34m\u001b[0m\u001b[0m\n\u001b[0m\u001b[1;32m      6\u001b[0m \u001b[0;31m#     a = .5 * (yVals1[i]+yVals[i-1])*(SamplePoints[i]-SamplePoints[i-1])\u001b[0m\u001b[0;34m\u001b[0m\u001b[0;34m\u001b[0m\u001b[0m\n\u001b[1;32m      7\u001b[0m \u001b[0;34m\u001b[0m\u001b[0m\n",
      "\u001b[0;31mIndexError\u001b[0m: index 24 is out of bounds for axis 0 with size 24"
     ]
    }
   ],
   "source": [
    "integralSolve = []\n",
    "# print(len(yVals1),len(SamplePoints))\n",
    "\n",
    "for i in range(1,(len(SamplePoints))):\n",
    "    print(SamplePoints[i+1]-SamplePoints[i])\n",
    "#     a = .5 * (yVals1[i]+yVals[i-1])*(SamplePoints[i]-SamplePoints[i-1])\n",
    "        \n"
=======
   "execution_count": 11,
   "metadata": {
    "collapsed": false,
    "deletable": true,
    "editable": true
   },
   "outputs": [],
   "source": [
    "yVals = list(map(cW1,SamplePoints))\n",
    "yValAvg = sum(yVals)/(len(yVals))\n",
    "y0 = yValAvg\n",
    "y1 = max(yVals)\n",
    "windowHigh = y1 + .5*y0\n",
    "windowLow = y1 - .5*y0"
>>>>>>> origin/master
   ]
  },
  {
   "cell_type": "code",
   "execution_count": null,
   "metadata": {
<<<<<<< HEAD
    "collapsed": true
=======
    "collapsed": false,
    "deletable": true,
    "editable": true
>>>>>>> origin/master
   },
   "outputs": [],
   "source": []
  },
  {
   "cell_type": "code",
   "execution_count": null,
   "metadata": {
<<<<<<< HEAD
    "collapsed": true
=======
    "collapsed": true,
    "deletable": true,
    "editable": true
>>>>>>> origin/master
   },
   "outputs": [],
   "source": []
  },
  {
   "cell_type": "code",
   "execution_count": null,
   "metadata": {
    "collapsed": true
   },
   "outputs": [],
   "source": []
  }
 ],
 "metadata": {
  "kernelspec": {
<<<<<<< HEAD
   "display_name": "Python 2",
   "language": "python",
   "name": "python2"
=======
   "display_name": "Python 3",
   "language": "python",
   "name": "python3"
>>>>>>> origin/master
  },
  "language_info": {
   "codemirror_mode": {
    "name": "ipython",
<<<<<<< HEAD
    "version": 2
=======
    "version": 3
>>>>>>> origin/master
   },
   "file_extension": ".py",
   "mimetype": "text/x-python",
   "name": "python",
   "nbconvert_exporter": "python",
<<<<<<< HEAD
   "pygments_lexer": "ipython2",
   "version": "2.7.12"
=======
   "pygments_lexer": "ipython3",
   "version": "3.5.2"
>>>>>>> origin/master
  }
 },
 "nbformat": 4,
 "nbformat_minor": 2
}
